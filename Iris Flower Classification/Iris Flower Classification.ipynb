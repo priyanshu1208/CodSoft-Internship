{
 "cells": [
  {
   "cell_type": "markdown",
   "id": "c174ba5a",
   "metadata": {},
   "source": [
    "# Iris Flower Classification"
   ]
  },
  {
   "cell_type": "code",
   "execution_count": 1,
   "id": "8f200f43",
   "metadata": {},
   "outputs": [],
   "source": [
    "import numpy as np\n",
    "import pandas as pd\n",
    "import matplotlib.pyplot as plt\n",
    "%matplotlib inline\n",
    "import seaborn as sns\n",
    "import warnings\n",
    "warnings.filterwarnings('ignore')"
   ]
  },
  {
   "cell_type": "code",
   "execution_count": 2,
   "id": "e8845242",
   "metadata": {},
   "outputs": [
    {
     "data": {
      "text/html": [
       "<div>\n",
       "<style scoped>\n",
       "    .dataframe tbody tr th:only-of-type {\n",
       "        vertical-align: middle;\n",
       "    }\n",
       "\n",
       "    .dataframe tbody tr th {\n",
       "        vertical-align: top;\n",
       "    }\n",
       "\n",
       "    .dataframe thead th {\n",
       "        text-align: right;\n",
       "    }\n",
       "</style>\n",
       "<table border=\"1\" class=\"dataframe\">\n",
       "  <thead>\n",
       "    <tr style=\"text-align: right;\">\n",
       "      <th></th>\n",
       "      <th>sepal_length</th>\n",
       "      <th>sepal_width</th>\n",
       "      <th>petal_length</th>\n",
       "      <th>petal_width</th>\n",
       "      <th>species</th>\n",
       "    </tr>\n",
       "  </thead>\n",
       "  <tbody>\n",
       "    <tr>\n",
       "      <th>0</th>\n",
       "      <td>5.1</td>\n",
       "      <td>3.5</td>\n",
       "      <td>1.4</td>\n",
       "      <td>0.2</td>\n",
       "      <td>Iris-setosa</td>\n",
       "    </tr>\n",
       "    <tr>\n",
       "      <th>1</th>\n",
       "      <td>4.9</td>\n",
       "      <td>3.0</td>\n",
       "      <td>1.4</td>\n",
       "      <td>0.2</td>\n",
       "      <td>Iris-setosa</td>\n",
       "    </tr>\n",
       "    <tr>\n",
       "      <th>2</th>\n",
       "      <td>4.7</td>\n",
       "      <td>3.2</td>\n",
       "      <td>1.3</td>\n",
       "      <td>0.2</td>\n",
       "      <td>Iris-setosa</td>\n",
       "    </tr>\n",
       "    <tr>\n",
       "      <th>3</th>\n",
       "      <td>4.6</td>\n",
       "      <td>3.1</td>\n",
       "      <td>1.5</td>\n",
       "      <td>0.2</td>\n",
       "      <td>Iris-setosa</td>\n",
       "    </tr>\n",
       "    <tr>\n",
       "      <th>4</th>\n",
       "      <td>5.0</td>\n",
       "      <td>3.6</td>\n",
       "      <td>1.4</td>\n",
       "      <td>0.2</td>\n",
       "      <td>Iris-setosa</td>\n",
       "    </tr>\n",
       "  </tbody>\n",
       "</table>\n",
       "</div>"
      ],
      "text/plain": [
       "   sepal_length  sepal_width  petal_length  petal_width      species\n",
       "0           5.1          3.5           1.4          0.2  Iris-setosa\n",
       "1           4.9          3.0           1.4          0.2  Iris-setosa\n",
       "2           4.7          3.2           1.3          0.2  Iris-setosa\n",
       "3           4.6          3.1           1.5          0.2  Iris-setosa\n",
       "4           5.0          3.6           1.4          0.2  Iris-setosa"
      ]
     },
     "execution_count": 2,
     "metadata": {},
     "output_type": "execute_result"
    }
   ],
   "source": [
    "df = pd.read_csv(r\"C:\\Users\\dell\\Desktop\\iris.csv\")\n",
    "df.head()"
   ]
  },
  {
   "cell_type": "code",
   "execution_count": 3,
   "id": "d313833f",
   "metadata": {},
   "outputs": [
    {
     "data": {
      "text/html": [
       "<div>\n",
       "<style scoped>\n",
       "    .dataframe tbody tr th:only-of-type {\n",
       "        vertical-align: middle;\n",
       "    }\n",
       "\n",
       "    .dataframe tbody tr th {\n",
       "        vertical-align: top;\n",
       "    }\n",
       "\n",
       "    .dataframe thead th {\n",
       "        text-align: right;\n",
       "    }\n",
       "</style>\n",
       "<table border=\"1\" class=\"dataframe\">\n",
       "  <thead>\n",
       "    <tr style=\"text-align: right;\">\n",
       "      <th></th>\n",
       "      <th>sepal_length</th>\n",
       "      <th>sepal_width</th>\n",
       "      <th>petal_length</th>\n",
       "      <th>petal_width</th>\n",
       "      <th>species</th>\n",
       "    </tr>\n",
       "  </thead>\n",
       "  <tbody>\n",
       "    <tr>\n",
       "      <th>0</th>\n",
       "      <td>5.1</td>\n",
       "      <td>3.5</td>\n",
       "      <td>1.4</td>\n",
       "      <td>0.2</td>\n",
       "      <td>Iris-setosa</td>\n",
       "    </tr>\n",
       "    <tr>\n",
       "      <th>1</th>\n",
       "      <td>4.9</td>\n",
       "      <td>3.0</td>\n",
       "      <td>1.4</td>\n",
       "      <td>0.2</td>\n",
       "      <td>Iris-setosa</td>\n",
       "    </tr>\n",
       "    <tr>\n",
       "      <th>2</th>\n",
       "      <td>4.7</td>\n",
       "      <td>3.2</td>\n",
       "      <td>1.3</td>\n",
       "      <td>0.2</td>\n",
       "      <td>Iris-setosa</td>\n",
       "    </tr>\n",
       "    <tr>\n",
       "      <th>3</th>\n",
       "      <td>4.6</td>\n",
       "      <td>3.1</td>\n",
       "      <td>1.5</td>\n",
       "      <td>0.2</td>\n",
       "      <td>Iris-setosa</td>\n",
       "    </tr>\n",
       "    <tr>\n",
       "      <th>4</th>\n",
       "      <td>5.0</td>\n",
       "      <td>3.6</td>\n",
       "      <td>1.4</td>\n",
       "      <td>0.2</td>\n",
       "      <td>Iris-setosa</td>\n",
       "    </tr>\n",
       "    <tr>\n",
       "      <th>...</th>\n",
       "      <td>...</td>\n",
       "      <td>...</td>\n",
       "      <td>...</td>\n",
       "      <td>...</td>\n",
       "      <td>...</td>\n",
       "    </tr>\n",
       "    <tr>\n",
       "      <th>145</th>\n",
       "      <td>6.7</td>\n",
       "      <td>3.0</td>\n",
       "      <td>5.2</td>\n",
       "      <td>2.3</td>\n",
       "      <td>Iris-virginica</td>\n",
       "    </tr>\n",
       "    <tr>\n",
       "      <th>146</th>\n",
       "      <td>6.3</td>\n",
       "      <td>2.5</td>\n",
       "      <td>5.0</td>\n",
       "      <td>1.9</td>\n",
       "      <td>Iris-virginica</td>\n",
       "    </tr>\n",
       "    <tr>\n",
       "      <th>147</th>\n",
       "      <td>6.5</td>\n",
       "      <td>3.0</td>\n",
       "      <td>5.2</td>\n",
       "      <td>2.0</td>\n",
       "      <td>Iris-virginica</td>\n",
       "    </tr>\n",
       "    <tr>\n",
       "      <th>148</th>\n",
       "      <td>6.2</td>\n",
       "      <td>3.4</td>\n",
       "      <td>5.4</td>\n",
       "      <td>2.3</td>\n",
       "      <td>Iris-virginica</td>\n",
       "    </tr>\n",
       "    <tr>\n",
       "      <th>149</th>\n",
       "      <td>5.9</td>\n",
       "      <td>3.0</td>\n",
       "      <td>5.1</td>\n",
       "      <td>1.8</td>\n",
       "      <td>Iris-virginica</td>\n",
       "    </tr>\n",
       "  </tbody>\n",
       "</table>\n",
       "<p>150 rows × 5 columns</p>\n",
       "</div>"
      ],
      "text/plain": [
       "     sepal_length  sepal_width  petal_length  petal_width         species\n",
       "0             5.1          3.5           1.4          0.2     Iris-setosa\n",
       "1             4.9          3.0           1.4          0.2     Iris-setosa\n",
       "2             4.7          3.2           1.3          0.2     Iris-setosa\n",
       "3             4.6          3.1           1.5          0.2     Iris-setosa\n",
       "4             5.0          3.6           1.4          0.2     Iris-setosa\n",
       "..            ...          ...           ...          ...             ...\n",
       "145           6.7          3.0           5.2          2.3  Iris-virginica\n",
       "146           6.3          2.5           5.0          1.9  Iris-virginica\n",
       "147           6.5          3.0           5.2          2.0  Iris-virginica\n",
       "148           6.2          3.4           5.4          2.3  Iris-virginica\n",
       "149           5.9          3.0           5.1          1.8  Iris-virginica\n",
       "\n",
       "[150 rows x 5 columns]"
      ]
     },
     "execution_count": 3,
     "metadata": {},
     "output_type": "execute_result"
    }
   ],
   "source": [
    "df"
   ]
  },
  {
   "cell_type": "code",
   "execution_count": 4,
   "id": "203efbcb",
   "metadata": {},
   "outputs": [
    {
     "name": "stdout",
     "output_type": "stream",
     "text": [
      "<class 'pandas.core.frame.DataFrame'>\n",
      "RangeIndex: 150 entries, 0 to 149\n",
      "Data columns (total 5 columns):\n",
      " #   Column        Non-Null Count  Dtype  \n",
      "---  ------        --------------  -----  \n",
      " 0   sepal_length  150 non-null    float64\n",
      " 1   sepal_width   150 non-null    float64\n",
      " 2   petal_length  150 non-null    float64\n",
      " 3   petal_width   150 non-null    float64\n",
      " 4   species       150 non-null    object \n",
      "dtypes: float64(4), object(1)\n",
      "memory usage: 6.0+ KB\n"
     ]
    }
   ],
   "source": [
    "df.info()"
   ]
  },
  {
   "cell_type": "code",
   "execution_count": 5,
   "id": "d547a842",
   "metadata": {},
   "outputs": [
    {
     "data": {
      "text/html": [
       "<div>\n",
       "<style scoped>\n",
       "    .dataframe tbody tr th:only-of-type {\n",
       "        vertical-align: middle;\n",
       "    }\n",
       "\n",
       "    .dataframe tbody tr th {\n",
       "        vertical-align: top;\n",
       "    }\n",
       "\n",
       "    .dataframe thead th {\n",
       "        text-align: right;\n",
       "    }\n",
       "</style>\n",
       "<table border=\"1\" class=\"dataframe\">\n",
       "  <thead>\n",
       "    <tr style=\"text-align: right;\">\n",
       "      <th></th>\n",
       "      <th>sepal_length</th>\n",
       "      <th>sepal_width</th>\n",
       "      <th>petal_length</th>\n",
       "      <th>petal_width</th>\n",
       "    </tr>\n",
       "  </thead>\n",
       "  <tbody>\n",
       "    <tr>\n",
       "      <th>count</th>\n",
       "      <td>150.000000</td>\n",
       "      <td>150.000000</td>\n",
       "      <td>150.000000</td>\n",
       "      <td>150.000000</td>\n",
       "    </tr>\n",
       "    <tr>\n",
       "      <th>mean</th>\n",
       "      <td>5.843333</td>\n",
       "      <td>3.054000</td>\n",
       "      <td>3.758667</td>\n",
       "      <td>1.198667</td>\n",
       "    </tr>\n",
       "    <tr>\n",
       "      <th>std</th>\n",
       "      <td>0.828066</td>\n",
       "      <td>0.433594</td>\n",
       "      <td>1.764420</td>\n",
       "      <td>0.763161</td>\n",
       "    </tr>\n",
       "    <tr>\n",
       "      <th>min</th>\n",
       "      <td>4.300000</td>\n",
       "      <td>2.000000</td>\n",
       "      <td>1.000000</td>\n",
       "      <td>0.100000</td>\n",
       "    </tr>\n",
       "    <tr>\n",
       "      <th>25%</th>\n",
       "      <td>5.100000</td>\n",
       "      <td>2.800000</td>\n",
       "      <td>1.600000</td>\n",
       "      <td>0.300000</td>\n",
       "    </tr>\n",
       "    <tr>\n",
       "      <th>50%</th>\n",
       "      <td>5.800000</td>\n",
       "      <td>3.000000</td>\n",
       "      <td>4.350000</td>\n",
       "      <td>1.300000</td>\n",
       "    </tr>\n",
       "    <tr>\n",
       "      <th>75%</th>\n",
       "      <td>6.400000</td>\n",
       "      <td>3.300000</td>\n",
       "      <td>5.100000</td>\n",
       "      <td>1.800000</td>\n",
       "    </tr>\n",
       "    <tr>\n",
       "      <th>max</th>\n",
       "      <td>7.900000</td>\n",
       "      <td>4.400000</td>\n",
       "      <td>6.900000</td>\n",
       "      <td>2.500000</td>\n",
       "    </tr>\n",
       "  </tbody>\n",
       "</table>\n",
       "</div>"
      ],
      "text/plain": [
       "       sepal_length  sepal_width  petal_length  petal_width\n",
       "count    150.000000   150.000000    150.000000   150.000000\n",
       "mean       5.843333     3.054000      3.758667     1.198667\n",
       "std        0.828066     0.433594      1.764420     0.763161\n",
       "min        4.300000     2.000000      1.000000     0.100000\n",
       "25%        5.100000     2.800000      1.600000     0.300000\n",
       "50%        5.800000     3.000000      4.350000     1.300000\n",
       "75%        6.400000     3.300000      5.100000     1.800000\n",
       "max        7.900000     4.400000      6.900000     2.500000"
      ]
     },
     "execution_count": 5,
     "metadata": {},
     "output_type": "execute_result"
    }
   ],
   "source": [
    "df.describe()"
   ]
  },
  {
   "cell_type": "code",
   "execution_count": 6,
   "id": "e3001390",
   "metadata": {},
   "outputs": [
    {
     "data": {
      "text/plain": [
       "sepal_length    0\n",
       "sepal_width     0\n",
       "petal_length    0\n",
       "petal_width     0\n",
       "species         0\n",
       "dtype: int64"
      ]
     },
     "execution_count": 6,
     "metadata": {},
     "output_type": "execute_result"
    }
   ],
   "source": [
    "df.isnull().sum()"
   ]
  },
  {
   "cell_type": "code",
   "execution_count": 12,
   "id": "bff67e8c",
   "metadata": {},
   "outputs": [
    {
     "data": {
      "text/plain": [
       "array(['Iris-setosa', 'Iris-versicolor', 'Iris-virginica'], dtype=object)"
      ]
     },
     "execution_count": 12,
     "metadata": {},
     "output_type": "execute_result"
    }
   ],
   "source": [
    "df['species'].unique()"
   ]
  },
  {
   "cell_type": "code",
   "execution_count": 14,
   "id": "6f7bfe23",
   "metadata": {},
   "outputs": [
    {
     "data": {
      "text/plain": [
       "Iris-setosa        50\n",
       "Iris-versicolor    50\n",
       "Iris-virginica     50\n",
       "Name: species, dtype: int64"
      ]
     },
     "execution_count": 14,
     "metadata": {},
     "output_type": "execute_result"
    }
   ],
   "source": [
    "df['species'].value_counts()"
   ]
  },
  {
   "cell_type": "code",
   "execution_count": 15,
   "id": "56caf4cd",
   "metadata": {},
   "outputs": [
    {
     "data": {
      "text/html": [
       "<div>\n",
       "<style scoped>\n",
       "    .dataframe tbody tr th:only-of-type {\n",
       "        vertical-align: middle;\n",
       "    }\n",
       "\n",
       "    .dataframe tbody tr th {\n",
       "        vertical-align: top;\n",
       "    }\n",
       "\n",
       "    .dataframe thead th {\n",
       "        text-align: right;\n",
       "    }\n",
       "</style>\n",
       "<table border=\"1\" class=\"dataframe\">\n",
       "  <thead>\n",
       "    <tr style=\"text-align: right;\">\n",
       "      <th></th>\n",
       "      <th>sepal_length</th>\n",
       "      <th>sepal_width</th>\n",
       "      <th>petal_length</th>\n",
       "      <th>petal_width</th>\n",
       "      <th>species</th>\n",
       "    </tr>\n",
       "  </thead>\n",
       "  <tbody>\n",
       "    <tr>\n",
       "      <th>0</th>\n",
       "      <td>5.1</td>\n",
       "      <td>3.5</td>\n",
       "      <td>1.4</td>\n",
       "      <td>0.2</td>\n",
       "      <td>Iris-setosa</td>\n",
       "    </tr>\n",
       "    <tr>\n",
       "      <th>1</th>\n",
       "      <td>4.9</td>\n",
       "      <td>3.0</td>\n",
       "      <td>1.4</td>\n",
       "      <td>0.2</td>\n",
       "      <td>Iris-setosa</td>\n",
       "    </tr>\n",
       "    <tr>\n",
       "      <th>2</th>\n",
       "      <td>4.7</td>\n",
       "      <td>3.2</td>\n",
       "      <td>1.3</td>\n",
       "      <td>0.2</td>\n",
       "      <td>Iris-setosa</td>\n",
       "    </tr>\n",
       "    <tr>\n",
       "      <th>3</th>\n",
       "      <td>4.6</td>\n",
       "      <td>3.1</td>\n",
       "      <td>1.5</td>\n",
       "      <td>0.2</td>\n",
       "      <td>Iris-setosa</td>\n",
       "    </tr>\n",
       "    <tr>\n",
       "      <th>4</th>\n",
       "      <td>5.0</td>\n",
       "      <td>3.6</td>\n",
       "      <td>1.4</td>\n",
       "      <td>0.2</td>\n",
       "      <td>Iris-setosa</td>\n",
       "    </tr>\n",
       "  </tbody>\n",
       "</table>\n",
       "</div>"
      ],
      "text/plain": [
       "   sepal_length  sepal_width  petal_length  petal_width      species\n",
       "0           5.1          3.5           1.4          0.2  Iris-setosa\n",
       "1           4.9          3.0           1.4          0.2  Iris-setosa\n",
       "2           4.7          3.2           1.3          0.2  Iris-setosa\n",
       "3           4.6          3.1           1.5          0.2  Iris-setosa\n",
       "4           5.0          3.6           1.4          0.2  Iris-setosa"
      ]
     },
     "execution_count": 15,
     "metadata": {},
     "output_type": "execute_result"
    }
   ],
   "source": [
    "df.head()"
   ]
  },
  {
   "cell_type": "code",
   "execution_count": 21,
   "id": "889f9717",
   "metadata": {},
   "outputs": [
    {
     "data": {
      "text/plain": [
       "[]"
      ]
     },
     "execution_count": 21,
     "metadata": {},
     "output_type": "execute_result"
    },
    {
     "data": {
      "image/png": "[encoded data removed]",
      "text/plain": [
       "<Figure size 640x480 with 1 Axes>"
      ]
     },
     "metadata": {},
     "output_type": "display_data"
    }
   ],
   "source": [
    "sns.barplot('species','sepal_length',data = df)\n",
    "plt.plot()"
   ]
  },
  {
   "cell_type": "code",
   "execution_count": 22,
   "id": "28b42f05",
   "metadata": {},
   "outputs": [
    {
     "data": {
      "text/plain": [
       "[]"
      ]
     },
     "execution_count": 22,
     "metadata": {},
     "output_type": "execute_result"
    },
    {
     "data": {
      "image/png": "[encoded data removed]",
      "text/plain": [
       "<Figure size 640x480 with 1 Axes>"
      ]
     },
     "metadata": {},
     "output_type": "display_data"
    }
   ],
   "source": [
    "sns.barplot('species','sepal_width',data = df)\n",
    "plt.plot()"
   ]
  },
  {
   "cell_type": "code",
   "execution_count": 23,
   "id": "9e4c5720",
   "metadata": {},
   "outputs": [
    {
     "data": {
      "text/plain": [
       "[]"
      ]
     },
     "execution_count": 23,
     "metadata": {},
     "output_type": "execute_result"
    },
    {
     "data": {
      "image/png": "[encoded data removed]",
      "text/plain": [
       "<Figure size 640x480 with 1 Axes>"
      ]
     },
     "metadata": {},
     "output_type": "display_data"
    }
   ],
   "source": [
    "sns.barplot('species','petal_length',data = df)\n",
    "plt.plot()"
   ]
  },
  {
   "cell_type": "code",
   "execution_count": 24,
   "id": "53fed162",
   "metadata": {},
   "outputs": [
    {
     "data": {
      "text/plain": [
       "<function matplotlib.pyplot.plot(*args, scalex=True, scaley=True, data=None, **kwargs)>"
      ]
     },
     "execution_count": 24,
     "metadata": {},
     "output_type": "execute_result"
    },
    {
     "data": {
      "image/png": "[encoded data removed]",
      "text/plain": [
       "<Figure size 640x480 with 1 Axes>"
      ]
     },
     "metadata": {},
     "output_type": "display_data"
    }
   ],
   "source": [
    "sns.barplot('species','petal_width',data = df)\n",
    "plt.plot"
   ]
  },
  {
   "cell_type": "code",
   "execution_count": 25,
   "id": "06591577",
   "metadata": {},
   "outputs": [
    {
     "data": {
      "text/plain": [
       "<seaborn.axisgrid.PairGrid at 0x1eb966b56d0>"
      ]
     },
     "execution_count": 25,
     "metadata": {},
     "output_type": "execute_result"
    },
    {
     "data": {
      "image/png": "[encoded data removed]",
      "text/plain": [
       "<Figure size 1000x1000 with 20 Axes>"
      ]
     },
     "metadata": {},
     "output_type": "display_data"
    }
   ],
   "source": [
    "sns.pairplot(data = df)"
   ]
  },
  {
   "cell_type": "code",
   "execution_count": 34,
   "id": "f2834b4e",
   "metadata": {
    "scrolled": true
   },
   "outputs": [],
   "source": [
    "data = df.values\n",
    "x = data[:,0:4]\n",
    "y = data[:,4]"
   ]
  },
  {
   "cell_type": "code",
   "execution_count": 35,
   "id": "0d7da4a6",
   "metadata": {},
   "outputs": [
    {
     "data": {
      "text/plain": [
       "array([[5.1, 3.5, 1.4, 0.2],\n",
       "       [4.9, 3.0, 1.4, 0.2],\n",
       "       [4.7, 3.2, 1.3, 0.2],\n",
       "       [4.6, 3.1, 1.5, 0.2],\n",
       "       [5.0, 3.6, 1.4, 0.2],\n",
       "       [5.4, 3.9, 1.7, 0.4],\n",
       "       [4.6, 3.4, 1.4, 0.3],\n",
       "       [5.0, 3.4, 1.5, 0.2],\n",
       "       [4.4, 2.9, 1.4, 0.2],\n",
       "       [4.9, 3.1, 1.5, 0.1],\n",
       "       [5.4, 3.7, 1.5, 0.2],\n",
       "       [4.8, 3.4, 1.6, 0.2],\n",
       "       [4.8, 3.0, 1.4, 0.1],\n",
       "       [4.3, 3.0, 1.1, 0.1],\n",
       "       [5.8, 4.0, 1.2, 0.2],\n",
       "       [5.7, 4.4, 1.5, 0.4],\n",
       "       [5.4, 3.9, 1.3, 0.4],\n",
       "       [5.1, 3.5, 1.4, 0.3],\n",
       "       [5.7, 3.8, 1.7, 0.3],\n",
       "       [5.1, 3.8, 1.5, 0.3],\n",
       "       [5.4, 3.4, 1.7, 0.2],\n",
       "       [5.1, 3.7, 1.5, 0.4],\n",
       "       [4.6, 3.6, 1.0, 0.2],\n",
       "       [5.1, 3.3, 1.7, 0.5],\n",
       "       [4.8, 3.4, 1.9, 0.2],\n",
       "       [5.0, 3.0, 1.6, 0.2],\n",
       "       [5.0, 3.4, 1.6, 0.4],\n",
       "       [5.2, 3.5, 1.5, 0.2],\n",
       "       [5.2, 3.4, 1.4, 0.2],\n",
       "       [4.7, 3.2, 1.6, 0.2],\n",
       "       [4.8, 3.1, 1.6, 0.2],\n",
       "       [5.4, 3.4, 1.5, 0.4],\n",
       "       [5.2, 4.1, 1.5, 0.1],\n",
       "       [5.5, 4.2, 1.4, 0.2],\n",
       "       [4.9, 3.1, 1.5, 0.1],\n",
       "       [5.0, 3.2, 1.2, 0.2],\n",
       "       [5.5, 3.5, 1.3, 0.2],\n",
       "       [4.9, 3.1, 1.5, 0.1],\n",
       "       [4.4, 3.0, 1.3, 0.2],\n",
       "       [5.1, 3.4, 1.5, 0.2],\n",
       "       [5.0, 3.5, 1.3, 0.3],\n",
       "       [4.5, 2.3, 1.3, 0.3],\n",
       "       [4.4, 3.2, 1.3, 0.2],\n",
       "       [5.0, 3.5, 1.6, 0.6],\n",
       "       [5.1, 3.8, 1.9, 0.4],\n",
       "       [4.8, 3.0, 1.4, 0.3],\n",
       "       [5.1, 3.8, 1.6, 0.2],\n",
       "       [4.6, 3.2, 1.4, 0.2],\n",
       "       [5.3, 3.7, 1.5, 0.2],\n",
       "       [5.0, 3.3, 1.4, 0.2],\n",
       "       [7.0, 3.2, 4.7, 1.4],\n",
       "       [6.4, 3.2, 4.5, 1.5],\n",
       "       [6.9, 3.1, 4.9, 1.5],\n",
       "       [5.5, 2.3, 4.0, 1.3],\n",
       "       [6.5, 2.8, 4.6, 1.5],\n",
       "       [5.7, 2.8, 4.5, 1.3],\n",
       "       [6.3, 3.3, 4.7, 1.6],\n",
       "       [4.9, 2.4, 3.3, 1.0],\n",
       "       [6.6, 2.9, 4.6, 1.3],\n",
       "       [5.2, 2.7, 3.9, 1.4],\n",
       "       [5.0, 2.0, 3.5, 1.0],\n",
       "       [5.9, 3.0, 4.2, 1.5],\n",
       "       [6.0, 2.2, 4.0, 1.0],\n",
       "       [6.1, 2.9, 4.7, 1.4],\n",
       "       [5.6, 2.9, 3.6, 1.3],\n",
       "       [6.7, 3.1, 4.4, 1.4],\n",
       "       [5.6, 3.0, 4.5, 1.5],\n",
       "       [5.8, 2.7, 4.1, 1.0],\n",
       "       [6.2, 2.2, 4.5, 1.5],\n",
       "       [5.6, 2.5, 3.9, 1.1],\n",
       "       [5.9, 3.2, 4.8, 1.8],\n",
       "       [6.1, 2.8, 4.0, 1.3],\n",
       "       [6.3, 2.5, 4.9, 1.5],\n",
       "       [6.1, 2.8, 4.7, 1.2],\n",
       "       [6.4, 2.9, 4.3, 1.3],\n",
       "       [6.6, 3.0, 4.4, 1.4],\n",
       "       [6.8, 2.8, 4.8, 1.4],\n",
       "       [6.7, 3.0, 5.0, 1.7],\n",
       "       [6.0, 2.9, 4.5, 1.5],\n",
       "       [5.7, 2.6, 3.5, 1.0],\n",
       "       [5.5, 2.4, 3.8, 1.1],\n",
       "       [5.5, 2.4, 3.7, 1.0],\n",
       "       [5.8, 2.7, 3.9, 1.2],\n",
       "       [6.0, 2.7, 5.1, 1.6],\n",
       "       [5.4, 3.0, 4.5, 1.5],\n",
       "       [6.0, 3.4, 4.5, 1.6],\n",
       "       [6.7, 3.1, 4.7, 1.5],\n",
       "       [6.3, 2.3, 4.4, 1.3],\n",
       "       [5.6, 3.0, 4.1, 1.3],\n",
       "       [5.5, 2.5, 4.0, 1.3],\n",
       "       [5.5, 2.6, 4.4, 1.2],\n",
       "       [6.1, 3.0, 4.6, 1.4],\n",
       "       [5.8, 2.6, 4.0, 1.2],\n",
       "       [5.0, 2.3, 3.3, 1.0],\n",
       "       [5.6, 2.7, 4.2, 1.3],\n",
       "       [5.7, 3.0, 4.2, 1.2],\n",
       "       [5.7, 2.9, 4.2, 1.3],\n",
       "       [6.2, 2.9, 4.3, 1.3],\n",
       "       [5.1, 2.5, 3.0, 1.1],\n",
       "       [5.7, 2.8, 4.1, 1.3],\n",
       "       [6.3, 3.3, 6.0, 2.5],\n",
       "       [5.8, 2.7, 5.1, 1.9],\n",
       "       [7.1, 3.0, 5.9, 2.1],\n",
       "       [6.3, 2.9, 5.6, 1.8],\n",
       "       [6.5, 3.0, 5.8, 2.2],\n",
       "       [7.6, 3.0, 6.6, 2.1],\n",
       "       [4.9, 2.5, 4.5, 1.7],\n",
       "       [7.3, 2.9, 6.3, 1.8],\n",
       "       [6.7, 2.5, 5.8, 1.8],\n",
       "       [7.2, 3.6, 6.1, 2.5],\n",
       "       [6.5, 3.2, 5.1, 2.0],\n",
       "       [6.4, 2.7, 5.3, 1.9],\n",
       "       [6.8, 3.0, 5.5, 2.1],\n",
       "       [5.7, 2.5, 5.0, 2.0],\n",
       "       [5.8, 2.8, 5.1, 2.4],\n",
       "       [6.4, 3.2, 5.3, 2.3],\n",
       "       [6.5, 3.0, 5.5, 1.8],\n",
       "       [7.7, 3.8, 6.7, 2.2],\n",
       "       [7.7, 2.6, 6.9, 2.3],\n",
       "       [6.0, 2.2, 5.0, 1.5],\n",
       "       [6.9, 3.2, 5.7, 2.3],\n",
       "       [5.6, 2.8, 4.9, 2.0],\n",
       "       [7.7, 2.8, 6.7, 2.0],\n",
       "       [6.3, 2.7, 4.9, 1.8],\n",
       "       [6.7, 3.3, 5.7, 2.1],\n",
       "       [7.2, 3.2, 6.0, 1.8],\n",
       "       [6.2, 2.8, 4.8, 1.8],\n",
       "       [6.1, 3.0, 4.9, 1.8],\n",
       "       [6.4, 2.8, 5.6, 2.1],\n",
       "       [7.2, 3.0, 5.8, 1.6],\n",
       "       [7.4, 2.8, 6.1, 1.9],\n",
       "       [7.9, 3.8, 6.4, 2.0],\n",
       "       [6.4, 2.8, 5.6, 2.2],\n",
       "       [6.3, 2.8, 5.1, 1.5],\n",
       "       [6.1, 2.6, 5.6, 1.4],\n",
       "       [7.7, 3.0, 6.1, 2.3],\n",
       "       [6.3, 3.4, 5.6, 2.4],\n",
       "       [6.4, 3.1, 5.5, 1.8],\n",
       "       [6.0, 3.0, 4.8, 1.8],\n",
       "       [6.9, 3.1, 5.4, 2.1],\n",
       "       [6.7, 3.1, 5.6, 2.4],\n",
       "       [6.9, 3.1, 5.1, 2.3],\n",
       "       [5.8, 2.7, 5.1, 1.9],\n",
       "       [6.8, 3.2, 5.9, 2.3],\n",
       "       [6.7, 3.3, 5.7, 2.5],\n",
       "       [6.7, 3.0, 5.2, 2.3],\n",
       "       [6.3, 2.5, 5.0, 1.9],\n",
       "       [6.5, 3.0, 5.2, 2.0],\n",
       "       [6.2, 3.4, 5.4, 2.3],\n",
       "       [5.9, 3.0, 5.1, 1.8]], dtype=object)"
      ]
     },
     "execution_count": 35,
     "metadata": {},
     "output_type": "execute_result"
    }
   ],
   "source": [
    "x"
   ]
  },
  {
   "cell_type": "code",
   "execution_count": 36,
   "id": "919f7c36",
   "metadata": {},
   "outputs": [
    {
     "data": {
      "text/plain": [
       "array(['Iris-setosa', 'Iris-setosa', 'Iris-setosa', 'Iris-setosa',\n",
       "       'Iris-setosa', 'Iris-setosa', 'Iris-setosa', 'Iris-setosa',\n",
       "       'Iris-setosa', 'Iris-setosa', 'Iris-setosa', 'Iris-setosa',\n",
       "       'Iris-setosa', 'Iris-setosa', 'Iris-setosa', 'Iris-setosa',\n",
       "       'Iris-setosa', 'Iris-setosa', 'Iris-setosa', 'Iris-setosa',\n",
       "       'Iris-setosa', 'Iris-setosa', 'Iris-setosa', 'Iris-setosa',\n",
       "       'Iris-setosa', 'Iris-setosa', 'Iris-setosa', 'Iris-setosa',\n",
       "       'Iris-setosa', 'Iris-setosa', 'Iris-setosa', 'Iris-setosa',\n",
       "       'Iris-setosa', 'Iris-setosa', 'Iris-setosa', 'Iris-setosa',\n",
       "       'Iris-setosa', 'Iris-setosa', 'Iris-setosa', 'Iris-setosa',\n",
       "       'Iris-setosa', 'Iris-setosa', 'Iris-setosa', 'Iris-setosa',\n",
       "       'Iris-setosa', 'Iris-setosa', 'Iris-setosa', 'Iris-setosa',\n",
       "       'Iris-setosa', 'Iris-setosa', 'Iris-versicolor', 'Iris-versicolor',\n",
       "       'Iris-versicolor', 'Iris-versicolor', 'Iris-versicolor',\n",
       "       'Iris-versicolor', 'Iris-versicolor', 'Iris-versicolor',\n",
       "       'Iris-versicolor', 'Iris-versicolor', 'Iris-versicolor',\n",
       "       'Iris-versicolor', 'Iris-versicolor', 'Iris-versicolor',\n",
       "       'Iris-versicolor', 'Iris-versicolor', 'Iris-versicolor',\n",
       "       'Iris-versicolor', 'Iris-versicolor', 'Iris-versicolor',\n",
       "       'Iris-versicolor', 'Iris-versicolor', 'Iris-versicolor',\n",
       "       'Iris-versicolor', 'Iris-versicolor', 'Iris-versicolor',\n",
       "       'Iris-versicolor', 'Iris-versicolor', 'Iris-versicolor',\n",
       "       'Iris-versicolor', 'Iris-versicolor', 'Iris-versicolor',\n",
       "       'Iris-versicolor', 'Iris-versicolor', 'Iris-versicolor',\n",
       "       'Iris-versicolor', 'Iris-versicolor', 'Iris-versicolor',\n",
       "       'Iris-versicolor', 'Iris-versicolor', 'Iris-versicolor',\n",
       "       'Iris-versicolor', 'Iris-versicolor', 'Iris-versicolor',\n",
       "       'Iris-versicolor', 'Iris-versicolor', 'Iris-versicolor',\n",
       "       'Iris-versicolor', 'Iris-versicolor', 'Iris-versicolor',\n",
       "       'Iris-virginica', 'Iris-virginica', 'Iris-virginica',\n",
       "       'Iris-virginica', 'Iris-virginica', 'Iris-virginica',\n",
       "       'Iris-virginica', 'Iris-virginica', 'Iris-virginica',\n",
       "       'Iris-virginica', 'Iris-virginica', 'Iris-virginica',\n",
       "       'Iris-virginica', 'Iris-virginica', 'Iris-virginica',\n",
       "       'Iris-virginica', 'Iris-virginica', 'Iris-virginica',\n",
       "       'Iris-virginica', 'Iris-virginica', 'Iris-virginica',\n",
       "       'Iris-virginica', 'Iris-virginica', 'Iris-virginica',\n",
       "       'Iris-virginica', 'Iris-virginica', 'Iris-virginica',\n",
       "       'Iris-virginica', 'Iris-virginica', 'Iris-virginica',\n",
       "       'Iris-virginica', 'Iris-virginica', 'Iris-virginica',\n",
       "       'Iris-virginica', 'Iris-virginica', 'Iris-virginica',\n",
       "       'Iris-virginica', 'Iris-virginica', 'Iris-virginica',\n",
       "       'Iris-virginica', 'Iris-virginica', 'Iris-virginica',\n",
       "       'Iris-virginica', 'Iris-virginica', 'Iris-virginica',\n",
       "       'Iris-virginica', 'Iris-virginica', 'Iris-virginica',\n",
       "       'Iris-virginica', 'Iris-virginica'], dtype=object)"
      ]
     },
     "execution_count": 36,
     "metadata": {},
     "output_type": "execute_result"
    }
   ],
   "source": [
    "y"
   ]
  },
  {
   "cell_type": "code",
   "execution_count": 38,
   "id": "b689467b",
   "metadata": {},
   "outputs": [],
   "source": [
    "from sklearn.model_selection import train_test_split\n",
    "x_train,x_test,y_train,y_test = train_test_split(x,y,test_size = 0.2)"
   ]
  },
  {
   "cell_type": "code",
   "execution_count": 39,
   "id": "76260ba4",
   "metadata": {},
   "outputs": [
    {
     "data": {
      "text/plain": [
       "array([[5.1, 3.5, 1.4, 0.2],\n",
       "       [6.2, 2.2, 4.5, 1.5],\n",
       "       [5.7, 2.6, 3.5, 1.0],\n",
       "       [4.8, 3.4, 1.6, 0.2],\n",
       "       [4.6, 3.1, 1.5, 0.2],\n",
       "       [6.8, 3.0, 5.5, 2.1],\n",
       "       [5.8, 2.7, 5.1, 1.9],\n",
       "       [5.1, 3.4, 1.5, 0.2],\n",
       "       [6.1, 2.8, 4.0, 1.3],\n",
       "       [5.9, 3.0, 5.1, 1.8],\n",
       "       [6.7, 3.3, 5.7, 2.1],\n",
       "       [5.0, 3.6, 1.4, 0.2],\n",
       "       [5.2, 3.4, 1.4, 0.2],\n",
       "       [6.0, 2.2, 4.0, 1.0],\n",
       "       [6.7, 3.3, 5.7, 2.5],\n",
       "       [5.8, 2.6, 4.0, 1.2],\n",
       "       [5.1, 3.8, 1.6, 0.2],\n",
       "       [7.2, 3.0, 5.8, 1.6],\n",
       "       [6.0, 3.0, 4.8, 1.8],\n",
       "       [5.0, 3.0, 1.6, 0.2],\n",
       "       [6.7, 2.5, 5.8, 1.8],\n",
       "       [5.5, 2.4, 3.8, 1.1],\n",
       "       [7.7, 3.0, 6.1, 2.3],\n",
       "       [5.5, 2.6, 4.4, 1.2],\n",
       "       [6.3, 3.4, 5.6, 2.4],\n",
       "       [6.3, 2.5, 5.0, 1.9],\n",
       "       [7.3, 2.9, 6.3, 1.8],\n",
       "       [5.0, 3.3, 1.4, 0.2],\n",
       "       [6.1, 2.9, 4.7, 1.4],\n",
       "       [6.8, 3.2, 5.9, 2.3],\n",
       "       [5.0, 3.4, 1.6, 0.4],\n",
       "       [5.8, 2.7, 4.1, 1.0],\n",
       "       [6.2, 3.4, 5.4, 2.3],\n",
       "       [6.1, 3.0, 4.6, 1.4],\n",
       "       [6.1, 2.6, 5.6, 1.4],\n",
       "       [5.0, 3.5, 1.6, 0.6],\n",
       "       [5.6, 2.5, 3.9, 1.1],\n",
       "       [4.6, 3.6, 1.0, 0.2],\n",
       "       [6.4, 3.2, 4.5, 1.5],\n",
       "       [4.8, 3.0, 1.4, 0.3],\n",
       "       [7.7, 2.8, 6.7, 2.0],\n",
       "       [6.7, 3.0, 5.0, 1.7],\n",
       "       [4.7, 3.2, 1.6, 0.2],\n",
       "       [6.3, 2.7, 4.9, 1.8],\n",
       "       [5.9, 3.2, 4.8, 1.8],\n",
       "       [6.7, 3.1, 5.6, 2.4],\n",
       "       [6.3, 2.9, 5.6, 1.8],\n",
       "       [6.4, 2.8, 5.6, 2.1],\n",
       "       [5.2, 4.1, 1.5, 0.1],\n",
       "       [5.3, 3.7, 1.5, 0.2],\n",
       "       [6.9, 3.2, 5.7, 2.3],\n",
       "       [6.9, 3.1, 4.9, 1.5],\n",
       "       [6.5, 3.2, 5.1, 2.0],\n",
       "       [4.9, 2.5, 4.5, 1.7],\n",
       "       [6.9, 3.1, 5.1, 2.3],\n",
       "       [7.7, 2.6, 6.9, 2.3],\n",
       "       [4.6, 3.4, 1.4, 0.3],\n",
       "       [5.6, 2.8, 4.9, 2.0],\n",
       "       [5.1, 2.5, 3.0, 1.1],\n",
       "       [5.7, 3.0, 4.2, 1.2],\n",
       "       [6.0, 2.7, 5.1, 1.6],\n",
       "       [6.8, 2.8, 4.8, 1.4],\n",
       "       [5.5, 2.5, 4.0, 1.3],\n",
       "       [5.5, 2.4, 3.7, 1.0],\n",
       "       [7.4, 2.8, 6.1, 1.9],\n",
       "       [4.9, 2.4, 3.3, 1.0],\n",
       "       [7.6, 3.0, 6.6, 2.1],\n",
       "       [5.2, 3.5, 1.5, 0.2],\n",
       "       [4.8, 3.1, 1.6, 0.2],\n",
       "       [6.6, 3.0, 4.4, 1.4],\n",
       "       [5.0, 3.2, 1.2, 0.2],\n",
       "       [6.3, 2.5, 4.9, 1.5],\n",
       "       [6.0, 3.4, 4.5, 1.6],\n",
       "       [6.3, 2.3, 4.4, 1.3],\n",
       "       [4.8, 3.4, 1.9, 0.2],\n",
       "       [5.2, 2.7, 3.9, 1.4],\n",
       "       [6.5, 3.0, 5.2, 2.0],\n",
       "       [5.4, 3.9, 1.3, 0.4],\n",
       "       [4.5, 2.3, 1.3, 0.3],\n",
       "       [4.8, 3.0, 1.4, 0.1],\n",
       "       [5.0, 2.3, 3.3, 1.0],\n",
       "       [5.6, 2.7, 4.2, 1.3],\n",
       "       [6.2, 2.8, 4.8, 1.8],\n",
       "       [5.0, 3.4, 1.5, 0.2],\n",
       "       [6.4, 2.9, 4.3, 1.3],\n",
       "       [6.2, 2.9, 4.3, 1.3],\n",
       "       [4.9, 3.1, 1.5, 0.1],\n",
       "       [6.3, 3.3, 6.0, 2.5],\n",
       "       [4.7, 3.2, 1.3, 0.2],\n",
       "       [5.5, 4.2, 1.4, 0.2],\n",
       "       [5.7, 2.8, 4.5, 1.3],\n",
       "       [5.5, 3.5, 1.3, 0.2],\n",
       "       [5.0, 2.0, 3.5, 1.0],\n",
       "       [5.4, 3.4, 1.7, 0.2],\n",
       "       [6.1, 3.0, 4.9, 1.8],\n",
       "       [7.7, 3.8, 6.7, 2.2],\n",
       "       [4.9, 3.1, 1.5, 0.1],\n",
       "       [5.1, 3.8, 1.5, 0.3],\n",
       "       [5.7, 2.5, 5.0, 2.0],\n",
       "       [5.4, 3.9, 1.7, 0.4],\n",
       "       [5.6, 3.0, 4.5, 1.5],\n",
       "       [6.4, 3.2, 5.3, 2.3],\n",
       "       [5.0, 3.5, 1.3, 0.3],\n",
       "       [5.8, 2.7, 5.1, 1.9],\n",
       "       [5.1, 3.8, 1.9, 0.4],\n",
       "       [4.4, 3.0, 1.3, 0.2],\n",
       "       [5.7, 3.8, 1.7, 0.3],\n",
       "       [4.3, 3.0, 1.1, 0.1],\n",
       "       [6.0, 2.9, 4.5, 1.5],\n",
       "       [4.4, 3.2, 1.3, 0.2],\n",
       "       [6.7, 3.0, 5.2, 2.3],\n",
       "       [5.7, 4.4, 1.5, 0.4],\n",
       "       [7.0, 3.2, 4.7, 1.4],\n",
       "       [6.4, 3.1, 5.5, 1.8],\n",
       "       [5.5, 2.3, 4.0, 1.3],\n",
       "       [4.9, 3.0, 1.4, 0.2],\n",
       "       [6.4, 2.8, 5.6, 2.2],\n",
       "       [5.1, 3.7, 1.5, 0.4],\n",
       "       [7.2, 3.2, 6.0, 1.8],\n",
       "       [6.3, 3.3, 4.7, 1.6]], dtype=object)"
      ]
     },
     "execution_count": 39,
     "metadata": {},
     "output_type": "execute_result"
    }
   ],
   "source": [
    "x_train"
   ]
  },
  {
   "cell_type": "code",
   "execution_count": 40,
   "id": "11d57298",
   "metadata": {},
   "outputs": [
    {
     "data": {
      "text/plain": [
       "array([[6.5, 3.0, 5.8, 2.2],\n",
       "       [6.3, 2.8, 5.1, 1.5],\n",
       "       [5.9, 3.0, 4.2, 1.5],\n",
       "       [6.9, 3.1, 5.4, 2.1],\n",
       "       [4.9, 3.1, 1.5, 0.1],\n",
       "       [5.7, 2.8, 4.1, 1.3],\n",
       "       [5.1, 3.5, 1.4, 0.3],\n",
       "       [6.0, 2.2, 5.0, 1.5],\n",
       "       [6.7, 3.1, 4.4, 1.4],\n",
       "       [5.6, 2.9, 3.6, 1.3],\n",
       "       [5.4, 3.7, 1.5, 0.2],\n",
       "       [6.1, 2.8, 4.7, 1.2],\n",
       "       [6.4, 2.7, 5.3, 1.9],\n",
       "       [7.9, 3.8, 6.4, 2.0],\n",
       "       [5.8, 2.8, 5.1, 2.4],\n",
       "       [5.4, 3.0, 4.5, 1.5],\n",
       "       [7.1, 3.0, 5.9, 2.1],\n",
       "       [5.1, 3.3, 1.7, 0.5],\n",
       "       [6.5, 3.0, 5.5, 1.8],\n",
       "       [5.4, 3.4, 1.5, 0.4],\n",
       "       [5.8, 2.7, 3.9, 1.2],\n",
       "       [6.7, 3.1, 4.7, 1.5],\n",
       "       [5.8, 4.0, 1.2, 0.2],\n",
       "       [4.4, 2.9, 1.4, 0.2],\n",
       "       [5.6, 3.0, 4.1, 1.3],\n",
       "       [4.6, 3.2, 1.4, 0.2],\n",
       "       [7.2, 3.6, 6.1, 2.5],\n",
       "       [6.5, 2.8, 4.6, 1.5],\n",
       "       [5.7, 2.9, 4.2, 1.3],\n",
       "       [6.6, 2.9, 4.6, 1.3]], dtype=object)"
      ]
     },
     "execution_count": 40,
     "metadata": {},
     "output_type": "execute_result"
    }
   ],
   "source": [
    "x_test"
   ]
  },
  {
   "cell_type": "code",
   "execution_count": 41,
   "id": "a364c937",
   "metadata": {},
   "outputs": [],
   "source": [
    "from sklearn.preprocessing import StandardScaler\n",
    "sc = StandardScaler()"
   ]
  },
  {
   "cell_type": "code",
   "execution_count": 42,
   "id": "f952a929",
   "metadata": {},
   "outputs": [],
   "source": [
    "x_train = sc.fit_transform(x_train)\n",
    "x_test = sc.transform(x_test)"
   ]
  },
  {
   "cell_type": "code",
   "execution_count": 43,
   "id": "6057e28e",
   "metadata": {},
   "outputs": [
    {
     "data": {
      "text/plain": [
       "array([[-0.85109671,  1.00581159, -1.2945989 , -1.26563009],\n",
       "       [ 0.47216319, -1.89986633,  0.44399601,  0.4161271 ],\n",
       "       [-0.12931858, -1.00581159, -0.11684106, -0.23070259],\n",
       "       [-1.21198577,  0.7822979 , -1.18243149, -1.26563009],\n",
       "       [-1.45257848,  0.11175684, -1.2385152 , -1.26563009],\n",
       "       [ 1.19394132, -0.11175684,  1.00483308,  1.19232273],\n",
       "       [-0.00902223, -0.7822979 ,  0.78049826,  0.93359085],\n",
       "       [-0.85109671,  0.7822979 , -1.2385152 , -1.26563009],\n",
       "       [ 0.35186684, -0.55878422,  0.16357748,  0.15739522],\n",
       "       [ 0.11127413, -0.11175684,  0.78049826,  0.80422491],\n",
       "       [ 1.07364496,  0.55878422,  1.1170005 ,  1.19232273],\n",
       "       [-0.97139306,  1.22932528, -1.2945989 , -1.26563009],\n",
       "       [-0.73080035,  0.7822979 , -1.2945989 , -1.26563009],\n",
       "       [ 0.23157048, -1.89986633,  0.16357748, -0.23070259],\n",
       "       [ 1.07364496,  0.55878422,  1.1170005 ,  1.70978648],\n",
       "       [-0.00902223, -1.00581159,  0.16357748,  0.02802929],\n",
       "       [-0.85109671,  1.67635265, -1.18243149, -1.26563009],\n",
       "       [ 1.67512673, -0.11175684,  1.1730842 ,  0.54549304],\n",
       "       [ 0.23157048, -0.11175684,  0.61224713,  0.80422491],\n",
       "       [-0.97139306, -0.11175684, -1.18243149, -1.26563009],\n",
       "       [ 1.07364496, -1.22932528,  1.1730842 ,  0.80422491],\n",
       "       [-0.36991129, -1.45283896,  0.05141006, -0.10133665],\n",
       "       [ 2.2766085 , -0.11175684,  1.34133532,  1.4510546 ],\n",
       "       [-0.36991129, -1.00581159,  0.38791231,  0.02802929],\n",
       "       [ 0.59245954,  0.7822979 ,  1.06091679,  1.58042054],\n",
       "       [ 0.59245954, -1.22932528,  0.72441455,  0.93359085],\n",
       "       [ 1.79542309, -0.33527053,  1.45350274,  0.80422491],\n",
       "       [-0.97139306,  0.55878422, -1.2945989 , -1.26563009],\n",
       "       [ 0.35186684, -0.33527053,  0.55616343,  0.28676116],\n",
       "       [ 1.19394132,  0.33527053,  1.22916791,  1.4510546 ],\n",
       "       [-0.97139306,  0.7822979 , -1.18243149, -1.00689822],\n",
       "       [-0.00902223, -0.7822979 ,  0.21966119, -0.23070259],\n",
       "       [ 0.47216319,  0.7822979 ,  0.94874938,  1.4510546 ],\n",
       "       [ 0.35186684, -0.11175684,  0.50007972,  0.28676116],\n",
       "       [ 0.35186684, -1.00581159,  1.06091679,  0.28676116],\n",
       "       [-0.97139306,  1.00581159, -1.18243149, -0.74816634],\n",
       "       [-0.24961494, -1.22932528,  0.10749377, -0.10133665],\n",
       "       [-1.45257848,  1.22932528, -1.51893373, -1.26563009],\n",
       "       [ 0.7127559 ,  0.33527053,  0.44399601,  0.4161271 ],\n",
       "       [-1.21198577, -0.11175684, -1.2945989 , -1.13626415],\n",
       "       [ 2.2766085 , -0.55878422,  1.67783757,  1.06295679],\n",
       "       [ 1.07364496, -0.11175684,  0.72441455,  0.67485897],\n",
       "       [-1.33228212,  0.33527053, -1.18243149, -1.26563009],\n",
       "       [ 0.59245954, -0.7822979 ,  0.66833084,  0.80422491],\n",
       "       [ 0.11127413,  0.33527053,  0.61224713,  0.80422491],\n",
       "       [ 1.07364496,  0.11175684,  1.06091679,  1.58042054],\n",
       "       [ 0.59245954, -0.33527053,  1.06091679,  0.80422491],\n",
       "       [ 0.7127559 , -0.55878422,  1.06091679,  1.19232273],\n",
       "       [-0.73080035,  2.34689371, -1.2385152 , -1.39499603],\n",
       "       [-0.610504  ,  1.45283896, -1.2385152 , -1.26563009],\n",
       "       [ 1.31423767,  0.33527053,  1.1170005 ,  1.4510546 ],\n",
       "       [ 1.31423767,  0.11175684,  0.66833084,  0.4161271 ],\n",
       "       [ 0.83305225,  0.33527053,  0.78049826,  1.06295679],\n",
       "       [-1.09168941, -1.22932528,  0.44399601,  0.67485897],\n",
       "       [ 1.31423767,  0.11175684,  0.78049826,  1.4510546 ],\n",
       "       [ 2.2766085 , -1.00581159,  1.79000498,  1.4510546 ],\n",
       "       [-1.45257848,  0.7822979 , -1.2945989 , -1.13626415],\n",
       "       [-0.24961494, -0.55878422,  0.66833084,  1.06295679],\n",
       "       [-0.85109671, -1.22932528, -0.39725959, -0.10133665],\n",
       "       [-0.12931858, -0.11175684,  0.27574489,  0.02802929],\n",
       "       [ 0.23157048, -0.7822979 ,  0.78049826,  0.54549304],\n",
       "       [ 1.19394132, -0.55878422,  0.61224713,  0.28676116],\n",
       "       [-0.36991129, -1.22932528,  0.16357748,  0.15739522],\n",
       "       [-0.36991129, -1.45283896, -0.00467364, -0.23070259],\n",
       "       [ 1.91571944, -0.55878422,  1.34133532,  0.93359085],\n",
       "       [-1.09168941, -1.45283896, -0.22900847, -0.23070259],\n",
       "       [ 2.15631215, -0.11175684,  1.62175386,  1.19232273],\n",
       "       [-0.73080035,  1.00581159, -1.2385152 , -1.26563009],\n",
       "       [-1.21198577,  0.11175684, -1.18243149, -1.26563009],\n",
       "       [ 0.95334861, -0.11175684,  0.38791231,  0.28676116],\n",
       "       [-0.97139306,  0.33527053, -1.40676632, -1.26563009],\n",
       "       [ 0.59245954, -1.22932528,  0.66833084,  0.4161271 ],\n",
       "       [ 0.23157048,  0.7822979 ,  0.44399601,  0.54549304],\n",
       "       [ 0.59245954, -1.67635265,  0.38791231,  0.15739522],\n",
       "       [-1.21198577,  0.7822979 , -1.01418037, -1.26563009],\n",
       "       [-0.73080035, -0.7822979 ,  0.10749377,  0.28676116],\n",
       "       [ 0.83305225, -0.11175684,  0.83658196,  1.06295679],\n",
       "       [-0.49020764,  1.89986633, -1.35068261, -1.00689822],\n",
       "       [-1.57287483, -1.67635265, -1.35068261, -1.13626415],\n",
       "       [-1.21198577, -0.11175684, -1.2945989 , -1.39499603],\n",
       "       [-0.97139306, -1.67635265, -0.22900847, -0.23070259],\n",
       "       [-0.24961494, -0.7822979 ,  0.27574489,  0.15739522],\n",
       "       [ 0.47216319, -0.55878422,  0.61224713,  0.80422491],\n",
       "       [-0.97139306,  0.7822979 , -1.2385152 , -1.26563009],\n",
       "       [ 0.7127559 , -0.33527053,  0.3318286 ,  0.15739522],\n",
       "       [ 0.47216319, -0.33527053,  0.3318286 ,  0.15739522],\n",
       "       [-1.09168941,  0.11175684, -1.2385152 , -1.39499603],\n",
       "       [ 0.59245954,  0.55878422,  1.28525162,  1.70978648],\n",
       "       [-1.33228212,  0.33527053, -1.35068261, -1.26563009],\n",
       "       [-0.36991129,  2.57040739, -1.2945989 , -1.26563009],\n",
       "       [-0.12931858, -0.55878422,  0.44399601,  0.15739522],\n",
       "       [-0.36991129,  1.00581159, -1.35068261, -1.26563009],\n",
       "       [-0.97139306, -2.34689371, -0.11684106, -0.23070259],\n",
       "       [-0.49020764,  0.7822979 , -1.12634778, -1.26563009],\n",
       "       [ 0.35186684, -0.11175684,  0.66833084,  0.80422491],\n",
       "       [ 2.2766085 ,  1.67635265,  1.67783757,  1.32168866],\n",
       "       [-1.09168941,  0.11175684, -1.2385152 , -1.39499603],\n",
       "       [-0.85109671,  1.67635265, -1.2385152 , -1.13626415],\n",
       "       [-0.12931858, -1.22932528,  0.72441455,  1.06295679],\n",
       "       [-0.49020764,  1.89986633, -1.12634778, -1.00689822],\n",
       "       [-0.24961494, -0.11175684,  0.44399601,  0.4161271 ],\n",
       "       [ 0.7127559 ,  0.33527053,  0.89266567,  1.4510546 ],\n",
       "       [-0.97139306,  1.00581159, -1.35068261, -1.13626415],\n",
       "       [-0.00902223, -0.7822979 ,  0.78049826,  0.93359085],\n",
       "       [-0.85109671,  1.67635265, -1.01418037, -1.00689822],\n",
       "       [-1.69317119, -0.11175684, -1.35068261, -1.26563009],\n",
       "       [-0.12931858,  1.67635265, -1.12634778, -1.13626415],\n",
       "       [-1.81346754, -0.11175684, -1.46285002, -1.39499603],\n",
       "       [ 0.23157048, -0.33527053,  0.44399601,  0.4161271 ],\n",
       "       [-1.69317119,  0.33527053, -1.35068261, -1.26563009],\n",
       "       [ 1.07364496, -0.11175684,  0.83658196,  1.4510546 ],\n",
       "       [-0.12931858,  3.01743477, -1.2385152 , -1.00689822],\n",
       "       [ 1.43453402,  0.33527053,  0.55616343,  0.28676116],\n",
       "       [ 0.7127559 ,  0.11175684,  1.00483308,  0.80422491],\n",
       "       [-0.36991129, -1.67635265,  0.16357748,  0.15739522],\n",
       "       [-1.09168941, -0.11175684, -1.2945989 , -1.26563009],\n",
       "       [ 0.7127559 , -0.55878422,  1.06091679,  1.32168866],\n",
       "       [-0.85109671,  1.45283896, -1.2385152 , -1.00689822],\n",
       "       [ 1.67512673,  0.33527053,  1.28525162,  0.80422491],\n",
       "       [ 0.59245954,  0.55878422,  0.55616343,  0.54549304]])"
      ]
     },
     "execution_count": 43,
     "metadata": {},
     "output_type": "execute_result"
    }
   ],
   "source": [
    "x_train"
   ]
  },
  {
   "cell_type": "code",
   "execution_count": 44,
   "id": "392122d8",
   "metadata": {},
   "outputs": [
    {
     "data": {
      "text/plain": [
       "array([[ 0.83305225, -0.11175684,  1.1730842 ,  1.32168866],\n",
       "       [ 0.59245954, -0.55878422,  0.78049826,  0.4161271 ],\n",
       "       [ 0.11127413, -0.11175684,  0.27574489,  0.4161271 ],\n",
       "       [ 1.31423767,  0.11175684,  0.94874938,  1.19232273],\n",
       "       [-1.09168941,  0.11175684, -1.2385152 , -1.39499603],\n",
       "       [-0.12931858, -0.55878422,  0.21966119,  0.15739522],\n",
       "       [-0.85109671,  1.00581159, -1.2945989 , -1.13626415],\n",
       "       [ 0.23157048, -1.89986633,  0.72441455,  0.4161271 ],\n",
       "       [ 1.07364496,  0.11175684,  0.38791231,  0.28676116],\n",
       "       [-0.24961494, -0.33527053, -0.06075735,  0.15739522],\n",
       "       [-0.49020764,  1.45283896, -1.2385152 , -1.26563009],\n",
       "       [ 0.35186684, -0.55878422,  0.55616343,  0.02802929],\n",
       "       [ 0.7127559 , -0.7822979 ,  0.89266567,  0.93359085],\n",
       "       [ 2.51720121,  1.67635265,  1.50958645,  1.06295679],\n",
       "       [-0.00902223, -0.55878422,  0.78049826,  1.58042054],\n",
       "       [-0.49020764, -0.11175684,  0.44399601,  0.4161271 ],\n",
       "       [ 1.55483038, -0.11175684,  1.22916791,  1.19232273],\n",
       "       [-0.85109671,  0.55878422, -1.12634778, -0.87753228],\n",
       "       [ 0.83305225, -0.11175684,  1.00483308,  0.80422491],\n",
       "       [-0.49020764,  0.7822979 , -1.2385152 , -1.00689822],\n",
       "       [-0.00902223, -0.7822979 ,  0.10749377,  0.02802929],\n",
       "       [ 1.07364496,  0.11175684,  0.55616343,  0.4161271 ],\n",
       "       [-0.00902223,  2.12338002, -1.40676632, -1.26563009],\n",
       "       [-1.69317119, -0.33527053, -1.2945989 , -1.26563009],\n",
       "       [-0.24961494, -0.11175684,  0.21966119,  0.15739522],\n",
       "       [-1.45257848,  0.33527053, -1.2945989 , -1.26563009],\n",
       "       [ 1.67512673,  1.22932528,  1.34133532,  1.70978648],\n",
       "       [ 0.83305225, -0.55878422,  0.50007972,  0.4161271 ],\n",
       "       [-0.12931858, -0.33527053,  0.27574489,  0.15739522],\n",
       "       [ 0.95334861, -0.33527053,  0.50007972,  0.15739522]])"
      ]
     },
     "execution_count": 44,
     "metadata": {},
     "output_type": "execute_result"
    }
   ],
   "source": [
    "x_test"
   ]
  },
  {
   "cell_type": "code",
   "execution_count": 46,
   "id": "6bc74178",
   "metadata": {},
   "outputs": [
    {
     "data": {
      "text/plain": [
       "SVC()"
      ]
     },
     "execution_count": 46,
     "metadata": {},
     "output_type": "execute_result"
    }
   ],
   "source": [
    "from sklearn.svm import SVC\n",
    "model = SVC()\n",
    "model.fit(x_train, y_train)"
   ]
  },
  {
   "cell_type": "code",
   "execution_count": 48,
   "id": "a0d67811",
   "metadata": {},
   "outputs": [
    {
     "data": {
      "text/plain": [
       "0.9333333333333333"
      ]
     },
     "execution_count": 48,
     "metadata": {},
     "output_type": "execute_result"
    }
   ],
   "source": [
    "model.score(x_test,y_test)"
   ]
  },
  {
   "cell_type": "code",
   "execution_count": 49,
   "id": "d1adab8d",
   "metadata": {},
   "outputs": [
    {
     "data": {
      "text/plain": [
       "0.9833333333333333"
      ]
     },
     "execution_count": 49,
     "metadata": {},
     "output_type": "execute_result"
    }
   ],
   "source": [
    "model.score(x_train,y_train)"
   ]
  },
  {
   "cell_type": "code",
   "execution_count": 52,
   "id": "02a79038",
   "metadata": {},
   "outputs": [
    {
     "name": "stdout",
     "output_type": "stream",
     "text": [
      "                 precision    recall  f1-score   support\n",
      "\n",
      "    Iris-setosa       1.00      1.00      1.00         8\n",
      "Iris-versicolor       0.86      1.00      0.92        12\n",
      " Iris-virginica       1.00      0.80      0.89        10\n",
      "\n",
      "       accuracy                           0.93        30\n",
      "      macro avg       0.95      0.93      0.94        30\n",
      "   weighted avg       0.94      0.93      0.93        30\n",
      "\n"
     ]
    }
   ],
   "source": [
    "pred = model.predict(x_test)\n",
    "from sklearn.metrics import classification_report\n",
    "print(classification_report(y_test, pred))"
   ]
  },
  {
   "cell_type": "code",
   "execution_count": 53,
   "id": "d14c3afc",
   "metadata": {},
   "outputs": [],
   "source": [
    "import pickle\n",
    "with open('Iris Flower Classification','wb') as f:\n",
    "    pickle.dump(model,f)"
   ]
  },
  {
   "cell_type": "code",
   "execution_count": null,
   "id": "eb571e91",
   "metadata": {},
   "outputs": [],
   "source": []
  },
  {
   "cell_type": "code",
   "execution_count": null,
   "id": "e7703f5f",
   "metadata": {},
   "outputs": [],
   "source": []
  }
 ],
 "metadata": {
  "kernelspec": {
   "display_name": "Python 3 (ipykernel)",
   "language": "python",
   "name": "python3"
  },
  "language_info": {
   "codemirror_mode": {
    "name": "ipython",
    "version": 3
   },
   "file_extension": ".py",
   "mimetype": "text/x-python",
   "name": "python",
   "nbconvert_exporter": "python",
   "pygments_lexer": "ipython3",
   "version": "3.9.13"
  }
 },
 "nbformat": 4,
 "nbformat_minor": 5
}
